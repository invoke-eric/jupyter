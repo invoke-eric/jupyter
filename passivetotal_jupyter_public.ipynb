{
 "cells": [
  {
   "cell_type": "markdown",
   "metadata": {},
   "source": [
    "### Imports and Constants"
   ]
  },
  {
   "cell_type": "code",
   "execution_count": 1,
   "metadata": {},
   "outputs": [],
   "source": [
    "import pandas as pd\n",
    "from passivetotal import analyzer\n",
    "analyzer.init()\n",
    "# set the date range we want the passivetotal analyzer to look at, see https://passivetotal.readthedocs.io/en/latest/analyzer.html#initialization for more\n",
    "analyzer.set_date_range(start='2022-02-01', end='2022-03-01') "
   ]
  },
  {
   "cell_type": "markdown",
   "metadata": {},
   "source": [
    "#### Example %%bash magic"
   ]
  },
  {
   "cell_type": "code",
   "execution_count": 2,
   "metadata": {},
   "outputs": [],
   "source": [
    "%%bash\n",
    "echo \"physiciansofficenews.com\" > output.txt"
   ]
  },
  {
   "cell_type": "markdown",
   "metadata": {},
   "source": [
    "### Read Text, return PT API for each Hostname, output results into DataFrame"
   ]
  },
  {
   "cell_type": "code",
   "execution_count": 3,
   "metadata": {},
   "outputs": [],
   "source": [
    "with open('output.txt', encoding='utf-8') as foo:\n",
    "    f = foo.readlines()\n",
    "\n",
    "output = pd.DataFrame()\n",
    "\n",
    "for item in f:\n",
    "    host = analyzer.Hostname(item.strip())\n",
    "    resolutions = host.resolutions\n",
    "    records = resolutions.only_a_records.as_df\n",
    "    output = pd.concat([output, records])"
   ]
  },
  {
   "cell_type": "markdown",
   "metadata": {},
   "source": [
    "### Example Data Analysis"
   ]
  },
  {
   "cell_type": "code",
   "execution_count": 4,
   "metadata": {},
   "outputs": [
    {
     "data": {
      "text/html": [
       "<div>\n",
       "<style scoped>\n",
       "    .dataframe tbody tr th:only-of-type {\n",
       "        vertical-align: middle;\n",
       "    }\n",
       "\n",
       "    .dataframe tbody tr th {\n",
       "        vertical-align: top;\n",
       "    }\n",
       "\n",
       "    .dataframe thead th {\n",
       "        text-align: right;\n",
       "    }\n",
       "</style>\n",
       "<table border=\"1\" class=\"dataframe\">\n",
       "  <thead>\n",
       "    <tr style=\"text-align: right;\">\n",
       "      <th></th>\n",
       "      <th>query</th>\n",
       "      <th>recordtype</th>\n",
       "      <th>resolve</th>\n",
       "      <th>resolvetype</th>\n",
       "      <th>collected</th>\n",
       "      <th>firstseen</th>\n",
       "      <th>lastseen</th>\n",
       "      <th>duration</th>\n",
       "      <th>sources</th>\n",
       "    </tr>\n",
       "  </thead>\n",
       "  <tbody>\n",
       "    <tr>\n",
       "      <th>0</th>\n",
       "      <td>physiciansofficenews.com</td>\n",
       "      <td>A</td>\n",
       "      <td>45.61.185.234</td>\n",
       "      <td>ip</td>\n",
       "      <td>2022-05-26 23:24:38</td>\n",
       "      <td>2022-02-02 04:18:26</td>\n",
       "      <td>2022-02-26 17:26:23</td>\n",
       "      <td>24</td>\n",
       "      <td>[riskiq, mnemonic, emerging_threats]</td>\n",
       "    </tr>\n",
       "  </tbody>\n",
       "</table>\n",
       "</div>"
      ],
      "text/plain": [
       "                      query recordtype        resolve resolvetype  \\\n",
       "0  physiciansofficenews.com          A  45.61.185.234          ip   \n",
       "\n",
       "            collected           firstseen            lastseen  duration  \\\n",
       "0 2022-05-26 23:24:38 2022-02-02 04:18:26 2022-02-26 17:26:23        24   \n",
       "\n",
       "                                sources  \n",
       "0  [riskiq, mnemonic, emerging_threats]  "
      ]
     },
     "execution_count": 4,
     "metadata": {},
     "output_type": "execute_result"
    }
   ],
   "source": [
    "output.sort_values(by=['firstseen'], ascending=False)"
   ]
  },
  {
   "cell_type": "code",
   "execution_count": 5,
   "metadata": {},
   "outputs": [],
   "source": [
    "# do a reverse lookup on the IP addresses in the above dataframe to find A records for all domains resolving to these IP addresses\n",
    "\n",
    "reverse_df = pd.DataFrame()\n",
    "\n",
    "for ip in output[\"resolve\"]:\n",
    "    reverse_df = pd.concat([reverse_df,analyzer.IPAddress(ip).resolutions.only_a_records.as_df])"
   ]
  },
  {
   "cell_type": "code",
   "execution_count": 6,
   "metadata": {},
   "outputs": [
    {
     "data": {
      "text/html": [
       "<div>\n",
       "<style scoped>\n",
       "    .dataframe tbody tr th:only-of-type {\n",
       "        vertical-align: middle;\n",
       "    }\n",
       "\n",
       "    .dataframe tbody tr th {\n",
       "        vertical-align: top;\n",
       "    }\n",
       "\n",
       "    .dataframe thead th {\n",
       "        text-align: right;\n",
       "    }\n",
       "</style>\n",
       "<table border=\"1\" class=\"dataframe\">\n",
       "  <thead>\n",
       "    <tr style=\"text-align: right;\">\n",
       "      <th></th>\n",
       "      <th>query</th>\n",
       "      <th>recordtype</th>\n",
       "      <th>resolve</th>\n",
       "      <th>resolvetype</th>\n",
       "      <th>collected</th>\n",
       "      <th>firstseen</th>\n",
       "      <th>lastseen</th>\n",
       "      <th>duration</th>\n",
       "      <th>sources</th>\n",
       "    </tr>\n",
       "  </thead>\n",
       "  <tbody>\n",
       "    <tr>\n",
       "      <th>0</th>\n",
       "      <td>45.61.185.234</td>\n",
       "      <td>A</td>\n",
       "      <td>physiciansofficenews.com</td>\n",
       "      <td>domain</td>\n",
       "      <td>2022-05-26 23:24:38</td>\n",
       "      <td>2022-02-02 04:22:23</td>\n",
       "      <td>2022-02-26 17:26:23</td>\n",
       "      <td>24</td>\n",
       "      <td>[riskiq, emerging_threats]</td>\n",
       "    </tr>\n",
       "    <tr>\n",
       "      <th>1</th>\n",
       "      <td>45.61.185.234</td>\n",
       "      <td>A</td>\n",
       "      <td>ns2.physiciansofficenews.com</td>\n",
       "      <td>domain</td>\n",
       "      <td>2022-05-26 23:24:38</td>\n",
       "      <td>2022-02-02 04:22:23</td>\n",
       "      <td>2022-04-03 09:24:39</td>\n",
       "      <td>60</td>\n",
       "      <td>[riskiq]</td>\n",
       "    </tr>\n",
       "    <tr>\n",
       "      <th>2</th>\n",
       "      <td>45.61.185.234</td>\n",
       "      <td>A</td>\n",
       "      <td>mail.physiciansofficenews.com</td>\n",
       "      <td>domain</td>\n",
       "      <td>2022-05-26 23:24:38</td>\n",
       "      <td>2022-02-04 07:45:15</td>\n",
       "      <td>2022-02-21 06:21:39</td>\n",
       "      <td>16</td>\n",
       "      <td>[riskiq]</td>\n",
       "    </tr>\n",
       "    <tr>\n",
       "      <th>3</th>\n",
       "      <td>45.61.185.234</td>\n",
       "      <td>A</td>\n",
       "      <td>www.physiciansofficenews.com</td>\n",
       "      <td>domain</td>\n",
       "      <td>2022-05-26 23:24:38</td>\n",
       "      <td>2022-02-10 12:45:46</td>\n",
       "      <td>2022-02-10 12:45:55</td>\n",
       "      <td>0</td>\n",
       "      <td>[riskiq]</td>\n",
       "    </tr>\n",
       "    <tr>\n",
       "      <th>4</th>\n",
       "      <td>45.61.185.234</td>\n",
       "      <td>A</td>\n",
       "      <td>s1.xuanyimoli.com</td>\n",
       "      <td>domain</td>\n",
       "      <td>2022-05-26 23:24:38</td>\n",
       "      <td>2021-09-04 12:13:29</td>\n",
       "      <td>2022-05-14 03:24:01</td>\n",
       "      <td>251</td>\n",
       "      <td>[riskiq]</td>\n",
       "    </tr>\n",
       "    <tr>\n",
       "      <th>5</th>\n",
       "      <td>45.61.185.234</td>\n",
       "      <td>A</td>\n",
       "      <td>ns1.physiciansofficenews.com</td>\n",
       "      <td>domain</td>\n",
       "      <td>2022-05-26 23:24:38</td>\n",
       "      <td>2022-02-02 04:22:23</td>\n",
       "      <td>2022-04-03 09:24:39</td>\n",
       "      <td>60</td>\n",
       "      <td>[riskiq]</td>\n",
       "    </tr>\n",
       "  </tbody>\n",
       "</table>\n",
       "</div>"
      ],
      "text/plain": [
       "           query recordtype                        resolve resolvetype  \\\n",
       "0  45.61.185.234          A       physiciansofficenews.com      domain   \n",
       "1  45.61.185.234          A   ns2.physiciansofficenews.com      domain   \n",
       "2  45.61.185.234          A  mail.physiciansofficenews.com      domain   \n",
       "3  45.61.185.234          A   www.physiciansofficenews.com      domain   \n",
       "4  45.61.185.234          A              s1.xuanyimoli.com      domain   \n",
       "5  45.61.185.234          A   ns1.physiciansofficenews.com      domain   \n",
       "\n",
       "            collected           firstseen            lastseen  duration  \\\n",
       "0 2022-05-26 23:24:38 2022-02-02 04:22:23 2022-02-26 17:26:23        24   \n",
       "1 2022-05-26 23:24:38 2022-02-02 04:22:23 2022-04-03 09:24:39        60   \n",
       "2 2022-05-26 23:24:38 2022-02-04 07:45:15 2022-02-21 06:21:39        16   \n",
       "3 2022-05-26 23:24:38 2022-02-10 12:45:46 2022-02-10 12:45:55         0   \n",
       "4 2022-05-26 23:24:38 2021-09-04 12:13:29 2022-05-14 03:24:01       251   \n",
       "5 2022-05-26 23:24:38 2022-02-02 04:22:23 2022-04-03 09:24:39        60   \n",
       "\n",
       "                      sources  \n",
       "0  [riskiq, emerging_threats]  \n",
       "1                    [riskiq]  \n",
       "2                    [riskiq]  \n",
       "3                    [riskiq]  \n",
       "4                    [riskiq]  \n",
       "5                    [riskiq]  "
      ]
     },
     "execution_count": 6,
     "metadata": {},
     "output_type": "execute_result"
    }
   ],
   "source": [
    "reverse_df"
   ]
  },
  {
   "cell_type": "code",
   "execution_count": 19,
   "metadata": {},
   "outputs": [
    {
     "data": {
      "text/html": [
       "<div>\n",
       "<style scoped>\n",
       "    .dataframe tbody tr th:only-of-type {\n",
       "        vertical-align: middle;\n",
       "    }\n",
       "\n",
       "    .dataframe tbody tr th {\n",
       "        vertical-align: top;\n",
       "    }\n",
       "\n",
       "    .dataframe thead th {\n",
       "        text-align: right;\n",
       "    }\n",
       "</style>\n",
       "<table border=\"1\" class=\"dataframe\">\n",
       "  <thead>\n",
       "    <tr style=\"text-align: right;\">\n",
       "      <th></th>\n",
       "      <th>query</th>\n",
       "      <th>recordtype</th>\n",
       "      <th>resolve</th>\n",
       "      <th>resolvetype</th>\n",
       "      <th>collected</th>\n",
       "      <th>firstseen</th>\n",
       "      <th>lastseen</th>\n",
       "      <th>duration</th>\n",
       "      <th>sources</th>\n",
       "    </tr>\n",
       "  </thead>\n",
       "  <tbody>\n",
       "    <tr>\n",
       "      <th>0</th>\n",
       "      <td>45.61.185.234</td>\n",
       "      <td>A</td>\n",
       "      <td>physiciansofficenews.com</td>\n",
       "      <td>domain</td>\n",
       "      <td>2022-05-26 23:24:38</td>\n",
       "      <td>2022-02-02 04:22:23</td>\n",
       "      <td>2022-02-26 17:26:23</td>\n",
       "      <td>24</td>\n",
       "      <td>[riskiq, emerging_threats]</td>\n",
       "    </tr>\n",
       "    <tr>\n",
       "      <th>1</th>\n",
       "      <td>45.61.185.234</td>\n",
       "      <td>A</td>\n",
       "      <td>ns2.physiciansofficenews.com</td>\n",
       "      <td>domain</td>\n",
       "      <td>2022-05-26 23:24:38</td>\n",
       "      <td>2022-02-02 04:22:23</td>\n",
       "      <td>2022-04-03 09:24:39</td>\n",
       "      <td>60</td>\n",
       "      <td>[riskiq]</td>\n",
       "    </tr>\n",
       "    <tr>\n",
       "      <th>2</th>\n",
       "      <td>45.61.185.234</td>\n",
       "      <td>A</td>\n",
       "      <td>mail.physiciansofficenews.com</td>\n",
       "      <td>domain</td>\n",
       "      <td>2022-05-26 23:24:38</td>\n",
       "      <td>2022-02-04 07:45:15</td>\n",
       "      <td>2022-02-21 06:21:39</td>\n",
       "      <td>16</td>\n",
       "      <td>[riskiq]</td>\n",
       "    </tr>\n",
       "    <tr>\n",
       "      <th>4</th>\n",
       "      <td>45.61.185.234</td>\n",
       "      <td>A</td>\n",
       "      <td>s1.xuanyimoli.com</td>\n",
       "      <td>domain</td>\n",
       "      <td>2022-05-26 23:24:38</td>\n",
       "      <td>2021-09-04 12:13:29</td>\n",
       "      <td>2022-05-14 03:24:01</td>\n",
       "      <td>251</td>\n",
       "      <td>[riskiq]</td>\n",
       "    </tr>\n",
       "    <tr>\n",
       "      <th>5</th>\n",
       "      <td>45.61.185.234</td>\n",
       "      <td>A</td>\n",
       "      <td>ns1.physiciansofficenews.com</td>\n",
       "      <td>domain</td>\n",
       "      <td>2022-05-26 23:24:38</td>\n",
       "      <td>2022-02-02 04:22:23</td>\n",
       "      <td>2022-04-03 09:24:39</td>\n",
       "      <td>60</td>\n",
       "      <td>[riskiq]</td>\n",
       "    </tr>\n",
       "  </tbody>\n",
       "</table>\n",
       "</div>"
      ],
      "text/plain": [
       "           query recordtype                        resolve resolvetype  \\\n",
       "0  45.61.185.234          A       physiciansofficenews.com      domain   \n",
       "1  45.61.185.234          A   ns2.physiciansofficenews.com      domain   \n",
       "2  45.61.185.234          A  mail.physiciansofficenews.com      domain   \n",
       "4  45.61.185.234          A              s1.xuanyimoli.com      domain   \n",
       "5  45.61.185.234          A   ns1.physiciansofficenews.com      domain   \n",
       "\n",
       "            collected           firstseen            lastseen  duration  \\\n",
       "0 2022-05-26 23:24:38 2022-02-02 04:22:23 2022-02-26 17:26:23        24   \n",
       "1 2022-05-26 23:24:38 2022-02-02 04:22:23 2022-04-03 09:24:39        60   \n",
       "2 2022-05-26 23:24:38 2022-02-04 07:45:15 2022-02-21 06:21:39        16   \n",
       "4 2022-05-26 23:24:38 2021-09-04 12:13:29 2022-05-14 03:24:01       251   \n",
       "5 2022-05-26 23:24:38 2022-02-02 04:22:23 2022-04-03 09:24:39        60   \n",
       "\n",
       "                      sources  \n",
       "0  [riskiq, emerging_threats]  \n",
       "1                    [riskiq]  \n",
       "2                    [riskiq]  \n",
       "4                    [riskiq]  \n",
       "5                    [riskiq]  "
      ]
     },
     "execution_count": 19,
     "metadata": {},
     "output_type": "execute_result"
    }
   ],
   "source": [
    "reverse_df[reverse_df['duration'] > 0]"
   ]
  },
  {
   "cell_type": "code",
   "execution_count": 9,
   "metadata": {},
   "outputs": [],
   "source": [
    "# analyzer.Hostname('crowdstrike.com').whois returns current whois results for a given domain.\n",
    "# we call this, again with the as_df method, and store the results in a dataframe to compare WHOIS data\n",
    "\n",
    "whois_df = pd.DataFrame()\n",
    "\n",
    "for domain in output[\"query\"]:\n",
    "    whois_df = pd.concat([whois_df,analyzer.Hostname(domain).whois.as_df])"
   ]
  },
  {
   "cell_type": "code",
   "execution_count": 10,
   "metadata": {},
   "outputs": [
    {
     "data": {
      "text/html": [
       "<div>\n",
       "<style scoped>\n",
       "    .dataframe tbody tr th:only-of-type {\n",
       "        vertical-align: middle;\n",
       "    }\n",
       "\n",
       "    .dataframe tbody tr th {\n",
       "        vertical-align: top;\n",
       "    }\n",
       "\n",
       "    .dataframe thead th {\n",
       "        text-align: right;\n",
       "    }\n",
       "</style>\n",
       "<table border=\"1\" class=\"dataframe\">\n",
       "  <thead>\n",
       "    <tr style=\"text-align: right;\">\n",
       "      <th></th>\n",
       "      <th>query</th>\n",
       "      <th>organization</th>\n",
       "      <th>name</th>\n",
       "      <th>telephone</th>\n",
       "      <th>email</th>\n",
       "      <th>registrant_org</th>\n",
       "      <th>registrant_name</th>\n",
       "      <th>registrant_phone</th>\n",
       "      <th>registrant_email</th>\n",
       "      <th>registrar</th>\n",
       "      <th>server</th>\n",
       "      <th>age</th>\n",
       "      <th>date_registered</th>\n",
       "      <th>date_updated</th>\n",
       "      <th>date_loaded</th>\n",
       "      <th>nameservers</th>\n",
       "      <th>date_expires</th>\n",
       "    </tr>\n",
       "  </thead>\n",
       "  <tbody>\n",
       "    <tr>\n",
       "      <th>0</th>\n",
       "      <td>physiciansofficenews.com</td>\n",
       "      <td>Domain Privacy Service FBO Registrant</td>\n",
       "      <td>Domain Privacy Service FBO Registrant</td>\n",
       "      <td>+1.8014948462</td>\n",
       "      <td>whois@hostmonster.com</td>\n",
       "      <td></td>\n",
       "      <td>Domain Privacy Service FBO Registrant</td>\n",
       "      <td>+1.8014948462</td>\n",
       "      <td>whois@hostmonster.com</td>\n",
       "      <td>FastDomain Inc.</td>\n",
       "      <td>rdap.fastdomain.com</td>\n",
       "      <td>2613</td>\n",
       "      <td>2015-03-31 14:43:26-07:00</td>\n",
       "      <td>2022-05-02 17:14:52-07:00</td>\n",
       "      <td>2022-05-05 13:51:14.238000-07:00</td>\n",
       "      <td>[ns1.physiciansofficenews.com, ns2.physicianso...</td>\n",
       "      <td>2023-03-31 07:43:26-07:00</td>\n",
       "    </tr>\n",
       "  </tbody>\n",
       "</table>\n",
       "</div>"
      ],
      "text/plain": [
       "                      query                           organization  \\\n",
       "0  physiciansofficenews.com  Domain Privacy Service FBO Registrant   \n",
       "\n",
       "                                    name      telephone  \\\n",
       "0  Domain Privacy Service FBO Registrant  +1.8014948462   \n",
       "\n",
       "                   email registrant_org  \\\n",
       "0  whois@hostmonster.com                  \n",
       "\n",
       "                         registrant_name registrant_phone  \\\n",
       "0  Domain Privacy Service FBO Registrant    +1.8014948462   \n",
       "\n",
       "        registrant_email        registrar               server   age  \\\n",
       "0  whois@hostmonster.com  FastDomain Inc.  rdap.fastdomain.com  2613   \n",
       "\n",
       "            date_registered              date_updated  \\\n",
       "0 2015-03-31 14:43:26-07:00 2022-05-02 17:14:52-07:00   \n",
       "\n",
       "                       date_loaded  \\\n",
       "0 2022-05-05 13:51:14.238000-07:00   \n",
       "\n",
       "                                         nameservers              date_expires  \n",
       "0  [ns1.physiciansofficenews.com, ns2.physicianso... 2023-03-31 07:43:26-07:00  "
      ]
     },
     "execution_count": 10,
     "metadata": {},
     "output_type": "execute_result"
    }
   ],
   "source": [
    "whois_df"
   ]
  },
  {
   "cell_type": "code",
   "execution_count": 11,
   "metadata": {},
   "outputs": [
    {
     "data": {
      "text/plain": [
       "Domain Privacy Service FBO Registrant    1\n",
       "Name: organization, dtype: int64"
      ]
     },
     "execution_count": 11,
     "metadata": {},
     "output_type": "execute_result"
    }
   ],
   "source": [
    "# the pandas value_counts method returns a series in descending order of each unique value by frequency https://pandas.pydata.org/docs/reference/api/pandas.Series.value_counts.html\n",
    "# below are just a few examples of things you can do to look for most prevalent values\n",
    "\n",
    "whois_df[\"organization\"].value_counts()"
   ]
  },
  {
   "cell_type": "code",
   "execution_count": 12,
   "metadata": {},
   "outputs": [
    {
     "data": {
      "text/plain": [
       "FastDomain Inc.    1\n",
       "Name: registrar, dtype: int64"
      ]
     },
     "execution_count": 12,
     "metadata": {},
     "output_type": "execute_result"
    }
   ],
   "source": [
    "whois_df[\"registrar\"].value_counts()"
   ]
  },
  {
   "cell_type": "code",
   "execution_count": 13,
   "metadata": {},
   "outputs": [
    {
     "data": {
      "text/plain": [
       "[ns1.physiciansofficenews.com, ns2.physiciansofficenews.com]    1\n",
       "Name: nameservers, dtype: int64"
      ]
     },
     "execution_count": 13,
     "metadata": {},
     "output_type": "execute_result"
    }
   ],
   "source": [
    "whois_df[\"nameservers\"].value_counts()"
   ]
  },
  {
   "cell_type": "code",
   "execution_count": 14,
   "metadata": {},
   "outputs": [],
   "source": [
    "# get just SOA records\n",
    "\n",
    "soa_df = pd.DataFrame()\n",
    "\n",
    "for domain in output[\"query\"]:\n",
    "    res_df = analyzer.Hostname(domain).resolutions.as_df\n",
    "    # there is no method akin to only_a_records, hence the filtering by recordtype\n",
    "    new_soa = res_df[(res_df[\"recordtype\"] == 'SOA')]\n",
    "    soa_df = pd.concat([soa_df,new_soa])"
   ]
  },
  {
   "cell_type": "code",
   "execution_count": 15,
   "metadata": {},
   "outputs": [
    {
     "data": {
      "text/html": [
       "<div>\n",
       "<style scoped>\n",
       "    .dataframe tbody tr th:only-of-type {\n",
       "        vertical-align: middle;\n",
       "    }\n",
       "\n",
       "    .dataframe tbody tr th {\n",
       "        vertical-align: top;\n",
       "    }\n",
       "\n",
       "    .dataframe thead th {\n",
       "        text-align: right;\n",
       "    }\n",
       "</style>\n",
       "<table border=\"1\" class=\"dataframe\">\n",
       "  <thead>\n",
       "    <tr style=\"text-align: right;\">\n",
       "      <th></th>\n",
       "      <th>query</th>\n",
       "      <th>recordtype</th>\n",
       "      <th>resolve</th>\n",
       "      <th>resolvetype</th>\n",
       "      <th>collected</th>\n",
       "      <th>firstseen</th>\n",
       "      <th>lastseen</th>\n",
       "      <th>duration</th>\n",
       "      <th>sources</th>\n",
       "    </tr>\n",
       "  </thead>\n",
       "  <tbody>\n",
       "    <tr>\n",
       "      <th>2</th>\n",
       "      <td>physiciansofficenews.com</td>\n",
       "      <td>SOA</td>\n",
       "      <td>ns1.domain.tld</td>\n",
       "      <td>domain</td>\n",
       "      <td>2022-05-26 23:24:38</td>\n",
       "      <td>2022-02-04 07:45:15</td>\n",
       "      <td>2022-02-16 01:58:56</td>\n",
       "      <td>11</td>\n",
       "      <td>[riskiq]</td>\n",
       "    </tr>\n",
       "    <tr>\n",
       "      <th>6</th>\n",
       "      <td>physiciansofficenews.com</td>\n",
       "      <td>SOA</td>\n",
       "      <td>root@physiciansofficenews.com</td>\n",
       "      <td>email</td>\n",
       "      <td>2022-05-26 23:24:38</td>\n",
       "      <td>2022-02-04 07:45:15</td>\n",
       "      <td>2022-02-16 01:58:56</td>\n",
       "      <td>11</td>\n",
       "      <td>[riskiq]</td>\n",
       "    </tr>\n",
       "  </tbody>\n",
       "</table>\n",
       "</div>"
      ],
      "text/plain": [
       "                      query recordtype                        resolve  \\\n",
       "2  physiciansofficenews.com        SOA                 ns1.domain.tld   \n",
       "6  physiciansofficenews.com        SOA  root@physiciansofficenews.com   \n",
       "\n",
       "  resolvetype           collected           firstseen            lastseen  \\\n",
       "2      domain 2022-05-26 23:24:38 2022-02-04 07:45:15 2022-02-16 01:58:56   \n",
       "6       email 2022-05-26 23:24:38 2022-02-04 07:45:15 2022-02-16 01:58:56   \n",
       "\n",
       "   duration   sources  \n",
       "2        11  [riskiq]  \n",
       "6        11  [riskiq]  "
      ]
     },
     "execution_count": 15,
     "metadata": {},
     "output_type": "execute_result"
    }
   ],
   "source": [
    "soa_df"
   ]
  },
  {
   "cell_type": "code",
   "execution_count": 16,
   "metadata": {},
   "outputs": [
    {
     "data": {
      "text/plain": [
       "root@physiciansofficenews.com    1\n",
       "Name: resolve, dtype: int64"
      ]
     },
     "execution_count": 16,
     "metadata": {},
     "output_type": "execute_result"
    }
   ],
   "source": [
    "# list the most common SOA email addresses\n",
    "soa_df[(soa_df['resolvetype'] == 'email')]['resolve'].value_counts()"
   ]
  },
  {
   "cell_type": "code",
   "execution_count": 17,
   "metadata": {},
   "outputs": [],
   "source": [
    "mx_df = pd.DataFrame()\n",
    "\n",
    "for domain in output[\"query\"]:\n",
    "    res_df = analyzer.Hostname(domain).resolutions.as_df\n",
    "    # there is no method akin to only_a_records, hence the filtering by recordtype\n",
    "    new_mx = res_df[(res_df[\"recordtype\"] == 'MX')]\n",
    "    mx_df = pd.concat([mx_df,new_mx])"
   ]
  },
  {
   "cell_type": "code",
   "execution_count": 18,
   "metadata": {},
   "outputs": [
    {
     "data": {
      "text/html": [
       "<div>\n",
       "<style scoped>\n",
       "    .dataframe tbody tr th:only-of-type {\n",
       "        vertical-align: middle;\n",
       "    }\n",
       "\n",
       "    .dataframe tbody tr th {\n",
       "        vertical-align: top;\n",
       "    }\n",
       "\n",
       "    .dataframe thead th {\n",
       "        text-align: right;\n",
       "    }\n",
       "</style>\n",
       "<table border=\"1\" class=\"dataframe\">\n",
       "  <thead>\n",
       "    <tr style=\"text-align: right;\">\n",
       "      <th></th>\n",
       "      <th>query</th>\n",
       "      <th>recordtype</th>\n",
       "      <th>resolve</th>\n",
       "      <th>resolvetype</th>\n",
       "      <th>collected</th>\n",
       "      <th>firstseen</th>\n",
       "      <th>lastseen</th>\n",
       "      <th>duration</th>\n",
       "      <th>sources</th>\n",
       "    </tr>\n",
       "  </thead>\n",
       "  <tbody>\n",
       "    <tr>\n",
       "      <th>4</th>\n",
       "      <td>physiciansofficenews.com</td>\n",
       "      <td>MX</td>\n",
       "      <td>mail.physiciansofficenews.com</td>\n",
       "      <td>domain</td>\n",
       "      <td>2022-05-26 23:24:38</td>\n",
       "      <td>2018-01-16 02:36:33</td>\n",
       "      <td>2022-02-21 06:21:39</td>\n",
       "      <td>1497</td>\n",
       "      <td>[riskiq]</td>\n",
       "    </tr>\n",
       "  </tbody>\n",
       "</table>\n",
       "</div>"
      ],
      "text/plain": [
       "                      query recordtype                        resolve  \\\n",
       "4  physiciansofficenews.com         MX  mail.physiciansofficenews.com   \n",
       "\n",
       "  resolvetype           collected           firstseen            lastseen  \\\n",
       "4      domain 2022-05-26 23:24:38 2018-01-16 02:36:33 2022-02-21 06:21:39   \n",
       "\n",
       "   duration   sources  \n",
       "4      1497  [riskiq]  "
      ]
     },
     "execution_count": 18,
     "metadata": {},
     "output_type": "execute_result"
    }
   ],
   "source": [
    "mx_df"
   ]
  },
  {
   "cell_type": "code",
   "execution_count": null,
   "metadata": {},
   "outputs": [],
   "source": []
  }
 ],
 "metadata": {
  "kernelspec": {
   "display_name": "pt_venv",
   "language": "python",
   "name": "pt_venv"
  },
  "language_info": {
   "codemirror_mode": {
    "name": "ipython",
    "version": 3
   },
   "file_extension": ".py",
   "mimetype": "text/x-python",
   "name": "python",
   "nbconvert_exporter": "python",
   "pygments_lexer": "ipython3",
   "version": "3.9.1"
  }
 },
 "nbformat": 4,
 "nbformat_minor": 4
}
