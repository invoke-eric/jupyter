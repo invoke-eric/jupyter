{
 "cells": [
  {
   "cell_type": "code",
   "execution_count": 1,
   "id": "7f36bc42",
   "metadata": {},
   "outputs": [],
   "source": [
    "from passivetotal import analyzer\n",
    "analyzer.init()"
   ]
  },
  {
   "cell_type": "code",
   "execution_count": 76,
   "id": "f7f8236d",
   "metadata": {},
   "outputs": [
    {
     "name": "stdout",
     "output_type": "stream",
     "text": [
      "77.81.139.138\n",
      "37.235.53.238\n",
      "151.236.23.31\n",
      "185.243.114.120\n",
      "45.80.151.21\n",
      "103.255.45.24\n",
      "103.255.45.23\n",
      "95.85.89.11\n",
      "185.81.115.114\n",
      "217.12.210.33\n",
      "18.144.42.110\n",
      "139.162.185.45\n",
      "45.77.18.200\n",
      "50.197.73.50\n",
      "124.248.202.122\n",
      "193.168.141.22\n",
      "158.255.215.196\n",
      "122.10.119.48\n",
      "185.198.57.177\n",
      "50.197.73.51\n",
      "185.244.129.11\n",
      "47.95.14.10\n",
      "45.197.133.12\n",
      "3.99.129.220\n",
      "149.28.141.49\n",
      "103.242.133.48\n",
      "185.101.139.220\n",
      "82.244.192.215\n",
      "5.189.222.153\n",
      "45.80.151.92\n",
      "188.164.131.29\n",
      "103.43.10.182\n",
      "5.252.25.27\n",
      "158.255.215.102\n",
      "54.37.210.33\n",
      "158.255.215.148\n",
      "5.2.76.185\n",
      "3.17.134.154\n",
      "139.28.36.197\n",
      "139.162.175.77\n"
     ]
    }
   ],
   "source": [
    "certs = analyzer.ssl.CertificateField('sha1', 'bb921694ef1941a74afed0f0f6e918d426b68b5f').certificates\n",
    "for i in certs:\n",
    "    hist = i.ips\n",
    "    print(*hist, sep=\"\\n\")"
   ]
  },
  {
   "cell_type": "code",
   "execution_count": null,
   "id": "6527694d",
   "metadata": {},
   "outputs": [],
   "source": []
  }
 ],
 "metadata": {
  "kernelspec": {
   "display_name": "pt_venv",
   "language": "python",
   "name": "pt_venv"
  },
  "language_info": {
   "codemirror_mode": {
    "name": "ipython",
    "version": 3
   },
   "file_extension": ".py",
   "mimetype": "text/x-python",
   "name": "python",
   "nbconvert_exporter": "python",
   "pygments_lexer": "ipython3",
   "version": "3.9.1"
  }
 },
 "nbformat": 4,
 "nbformat_minor": 5
}
